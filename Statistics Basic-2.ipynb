{
 "cells": [
  {
   "cell_type": "markdown",
   "id": "f722ac85-f3ba-4b49-acb6-af1c80bf1bcb",
   "metadata": {},
   "source": [
    "## Q1. What are the three measures of central tendency?"
   ]
  },
  {
   "cell_type": "markdown",
   "id": "59b2e80c-972f-4f81-b05f-550cac5e9a53",
   "metadata": {},
   "source": [
    "The three measures of central tendency are:\n",
    "\n",
    "1. Mean: The mean is calculated by summing up all the values in a dataset and dividing the sum by the total number of values. It represents the average value of a dataset.\n",
    "\n",
    "2. Median: The median is the middle value in a dataset when the values are arranged in ascending or descending order. It separates the dataset into two equal halves.\n",
    "\n",
    "3. Mode: The mode is the value that appears most frequently in a dataset. It represents the most common value or values in the dataset."
   ]
  },
  {
   "cell_type": "markdown",
   "id": "45f13af5-e567-4338-b071-69ad9d950e2e",
   "metadata": {},
   "source": [
    "## Q2. What is the difference between the mean, median, and mode? How are they used to measure the central tendency of a dataset?"
   ]
  },
  {
   "cell_type": "markdown",
   "id": "fa668a14-788d-45b5-8ab9-99662dca609d",
   "metadata": {},
   "source": [
    "The mean, median, and mode are all measures of central tendency used to describe the typical or central value of a dataset.\n",
    "\n",
    "The mean is calculated by summing up all the values in a dataset and dividing the sum by the total number of values. It represents the average value of the dataset. The mean is sensitive to outliers, as even one extreme value can significantly affect its value.\n",
    "\n",
    "The median is the middle value in a dataset when the values are arranged in ascending or descending order. It separates the dataset into two equal halves. The median is a better measure of central tendency for datasets with extreme values or outliers, as it is not affected by the extreme values.\n",
    "\n",
    "The mode is the value that appears most frequently in a dataset. It represents the most common value or values in the dataset. The mode is useful for datasets that have categorical or discrete variables, but it can also be used for continuous variables.\n",
    "\n",
    "All three measures of central tendency are used to describe the typical value of a dataset, but they differ in their sensitivity to extreme values and the shape of the distribution. The choice of which measure to use depends on the nature of the data and the research question at hand.\n",
    "\n",
    "In summary, mean, median, and mode are all measures of central tendency that can be used to describe the typical value of a dataset. Mean is sensitive to outliers, while median is more robust to outliers. Mode is used for categorical or discrete data, and all three measures can be used together to give a more complete picture of the dataset.\n"
   ]
  },
  {
   "cell_type": "code",
   "execution_count": 32,
   "id": "08b1ade7-b291-4364-9070-360eda78bdce",
   "metadata": {},
   "outputs": [],
   "source": [
    "import statistics"
   ]
  },
  {
   "cell_type": "markdown",
   "id": "22c04346-2f15-4571-b8ac-278c1edeb32c",
   "metadata": {},
   "source": [
    "## Q3. Measure the three measures of central tendency for the given height data:"
   ]
  },
  {
   "cell_type": "code",
   "execution_count": 20,
   "id": "2cdbda5a-502c-4fa2-91f6-abb772205a4f",
   "metadata": {},
   "outputs": [],
   "source": [
    "height = [178,177,176,177,178.2,178,175,179,180,175,178.9,176.2,177,172.5,178,176.5]"
   ]
  },
  {
   "cell_type": "code",
   "execution_count": 21,
   "id": "459277af-240f-4301-b6be-b5f02a4af739",
   "metadata": {},
   "outputs": [],
   "source": [
    "# three measure of central tendency\n",
    "# 1. Mean\n",
    "# 2. Median\n",
    "# 3. Mode"
   ]
  },
  {
   "cell_type": "code",
   "execution_count": 24,
   "id": "2bd6e30b-75da-477a-838b-5eaefc6544fe",
   "metadata": {},
   "outputs": [
    {
     "name": "stdout",
     "output_type": "stream",
     "text": [
      "Mean value= 177.01875\n"
     ]
    }
   ],
   "source": [
    "import statistics\n",
    "# calculate the mean\n",
    "mean = statistics.mean(height)\n",
    "print(\"Mean value=\", mean)"
   ]
  },
  {
   "cell_type": "code",
   "execution_count": 26,
   "id": "1dbc6183-4b70-4d60-bfe1-181c3f9c5c14",
   "metadata": {},
   "outputs": [
    {
     "name": "stdout",
     "output_type": "stream",
     "text": [
      "Median Value= 177.0\n"
     ]
    }
   ],
   "source": [
    "# Calculate the median\n",
    "median = statistics.median(height)\n",
    "print(\"Median Value=\", median)"
   ]
  },
  {
   "cell_type": "code",
   "execution_count": 27,
   "id": "ff4016f5-1df9-4a90-8744-b7b8bd95e33e",
   "metadata": {},
   "outputs": [
    {
     "name": "stdout",
     "output_type": "stream",
     "text": [
      "Mode= 178\n"
     ]
    }
   ],
   "source": [
    "# Calculate the mode\n",
    "mode = statistics.mode(height)\n",
    "print(\"Mode=\", mode)"
   ]
  },
  {
   "cell_type": "markdown",
   "id": "67d10a1c-307a-44ca-9274-e0084b2aa0c5",
   "metadata": {},
   "source": [
    "## Q4. Find the standard deviation for the given data:"
   ]
  },
  {
   "cell_type": "code",
   "execution_count": 33,
   "id": "4ab3c95a-ff2d-4269-b058-8855d8605173",
   "metadata": {},
   "outputs": [],
   "source": [
    "data = [178,177,176,177,178.2,178,175,179,180,175,178.9,176.2,177,172.5,178,176.5]"
   ]
  },
  {
   "cell_type": "code",
   "execution_count": null,
   "id": "c5ffabbc-77fb-41b8-bb5a-8207e61833ac",
   "metadata": {},
   "outputs": [
    {
     "data": {
      "text/plain": [
       "3.412291666666668"
      ]
     },
     "execution_count": 38,
     "metadata": {},
     "output_type": "execute_result"
    }
   ],
   "source": [
    "# Find the variance\n",
    "mean = sum(data) / len(data)\n",
    "sq_deviation = [(x - mean) ** 2 for x in data]\n",
    "variance = sum(sq_deviation) / (len(data) - 1)\n",
    "variance"
   ]
  },
  {
   "cell_type": "code",
   "execution_count": 44,
   "id": "f3b55494-0c9c-4a3d-a8fc-373316cf62ab",
   "metadata": {},
   "outputs": [
    {
     "data": {
      "text/plain": [
       "1.847238930584419"
      ]
     },
     "execution_count": 44,
     "metadata": {},
     "output_type": "execute_result"
    }
   ],
   "source": [
    "# find the root of variance value \n",
    "import math\n",
    "math.sqrt(variance)"
   ]
  },
  {
   "cell_type": "code",
   "execution_count": 36,
   "id": "fba2bc0e-4735-4d71-96b5-a21f3dd2cfa2",
   "metadata": {},
   "outputs": [
    {
     "name": "stdout",
     "output_type": "stream",
     "text": [
      "standard deviation:  1.8472389305844188\n"
     ]
    }
   ],
   "source": [
    "std = statistics.stdev(data)\n",
    "print(\"standard deviation: \",std)"
   ]
  },
  {
   "cell_type": "markdown",
   "id": "75444864-731b-4c81-acae-2d8f0f8ddd59",
   "metadata": {},
   "source": [
    "## Q5. How are measures of dispersion such as range, variance, and standard deviation used to describe the spread of a dataset? Provide an example."
   ]
  },
  {
   "cell_type": "code",
   "execution_count": 48,
   "id": "51c9e7e7-3dd2-4f93-b354-0eee8d7bd4ff",
   "metadata": {},
   "outputs": [],
   "source": [
    "import numpy as np"
   ]
  },
  {
   "cell_type": "code",
   "execution_count": 49,
   "id": "36074430-9b77-4046-9c99-266045482977",
   "metadata": {},
   "outputs": [],
   "source": [
    "data = np.array([65, 67, 68, 70, 71, 72, 74, 76, 78, 80])"
   ]
  },
  {
   "cell_type": "code",
   "execution_count": 50,
   "id": "3c99210e-78f3-46ac-a5cf-4b1af5ccab2d",
   "metadata": {},
   "outputs": [
    {
     "data": {
      "text/plain": [
       "80"
      ]
     },
     "execution_count": 50,
     "metadata": {},
     "output_type": "execute_result"
    }
   ],
   "source": [
    "# find max value\n",
    "np.max(data)"
   ]
  },
  {
   "cell_type": "code",
   "execution_count": 51,
   "id": "e48ccb96-8290-4cf2-9431-4877205c46f4",
   "metadata": {},
   "outputs": [
    {
     "data": {
      "text/plain": [
       "65"
      ]
     },
     "execution_count": 51,
     "metadata": {},
     "output_type": "execute_result"
    }
   ],
   "source": [
    "# find the min value\n",
    "np.min(data)"
   ]
  },
  {
   "cell_type": "code",
   "execution_count": 52,
   "id": "9a7e461f-284d-4758-a353-cfccd98fa014",
   "metadata": {},
   "outputs": [
    {
     "name": "stdout",
     "output_type": "stream",
     "text": [
      "range: 15\n"
     ]
    }
   ],
   "source": [
    "range = np.max(data) - np.min(data)\n",
    "print(\"range:\", range)"
   ]
  },
  {
   "cell_type": "code",
   "execution_count": 55,
   "id": "4b7d9454-d4b9-4338-b1e7-376349823cc0",
   "metadata": {},
   "outputs": [
    {
     "name": "stdout",
     "output_type": "stream",
     "text": [
      "variance_value: 21.49\n"
     ]
    }
   ],
   "source": [
    "variance = np.var(data)\n",
    "print(\"variance_value:\", variance)"
   ]
  },
  {
   "cell_type": "code",
   "execution_count": 60,
   "id": "64e4eda6-bb17-443d-84c9-d73aefe76478",
   "metadata": {},
   "outputs": [
    {
     "name": "stdout",
     "output_type": "stream",
     "text": [
      "standard_deviation: 4.635730794599704\n"
     ]
    }
   ],
   "source": [
    "std = np.std(data)\n",
    "print(\"standard_deviation:\", std)"
   ]
  },
  {
   "cell_type": "markdown",
   "id": "90ac76ea-50c6-4629-937a-017fb964e9f2",
   "metadata": {},
   "source": [
    "## Q6. What is a Venn diagram?"
   ]
  },
  {
   "cell_type": "markdown",
   "id": "83dca86f-6b5c-4da9-8384-fbf3e5381732",
   "metadata": {},
   "source": [
    "A Venn diagram is a graphical representation of the relationships between different sets of items. It consists of overlapping circles, each representing a set, with the area of overlap representing the elements that belong to both sets.\n",
    "Venn diagrams are often used in mathematics, logic, statistics, and other fields to visualize and analyze relationships between sets of items. They are a useful tool for illustrating the similarities and differences between different groups of objects or concepts.\n",
    "\n",
    "The basic elements of a Venn diagram include circles or ellipses that represent sets, and their intersections, which represent the common elements between sets. The circles may be labeled with the names of the sets, and the intersections may be labeled with the number of elements that are common to both sets.\n",
    "\n",
    "Venn diagrams can be used to solve various types of problems related to set theory, including set operations like union, intersection, and complement. They can also be used to illustrate logical arguments, and to help visualize complex concepts.\n"
   ]
  },
  {
   "cell_type": "markdown",
   "id": "6cec4ba9-d87b-4f64-bfc0-33a7a00fe92a",
   "metadata": {},
   "source": [
    "## Example Venn Diagram"
   ]
  },
  {
   "cell_type": "code",
   "execution_count": 72,
   "id": "06ef7b34-7f55-4e5a-a0f5-a0dfdd4f279a",
   "metadata": {},
   "outputs": [
    {
     "name": "stderr",
     "output_type": "stream",
     "text": [
      "No artists with labels found to put in legend.  Note that artists whose label start with an underscore are ignored when legend() is called with no argument.\n"
     ]
    },
    {
     "data": {
      "image/png": "[encoded data removed]",
      "text/plain": [
       "<Figure size 640x480 with 1 Axes>"
      ]
     },
     "metadata": {},
     "output_type": "display_data"
    }
   ],
   "source": [
    "import matplotlib.pyplot as plt\n",
    "from matplotlib_venn import venn2\n",
    "\n",
    "# Define the sets\n",
    "set1 = set(['A', 'B', 'C', 'D'])\n",
    "set2 = set(['B', 'C', 'D', 'E'])\n",
    "\n",
    "# Create the Venn diagram\n",
    "venn2([set1, set2])\n",
    "\n",
    "# Add title and legend\n",
    "plt.title('Venn Diagram of Two Sets')\n",
    "plt.legend()\n",
    "\n",
    "# Show the plot\n",
    "plt.show()\n"
   ]
  },
  {
   "cell_type": "markdown",
   "id": "0e775a0f-0514-4dba-b8aa-7d072d332fd7",
   "metadata": {},
   "source": [
    "## Q7. For the two given sets A = (2,3,4,5,6,7) & B = (0,2,6,8,10). Find:\n",
    "# (i) A B\n",
    "# (ii) A ⋃ B"
   ]
  },
  {
   "cell_type": "markdown",
   "id": "8705fcd7-fc8d-4a88-a4c2-343348162d3d",
   "metadata": {},
   "source": [
    "(i) A ∩ B (Intersection of A and B):\n",
    "\n",
    "The intersection of A and B is the set of elements that are common to both A and B.\n",
    "\n",
    "A ∩ B = {2, 6}"
   ]
  },
  {
   "cell_type": "markdown",
   "id": "df0c47e0-3356-4fd7-ab1a-87c7e5d5a2d1",
   "metadata": {},
   "source": [
    "\n",
    "\n",
    "(ii) A U B (Union of A and B):\n",
    "\n",
    "The union of A and B is the set of all elements that belong to A or B or both.\n",
    "\n",
    "A U B = {0, 2, 3, 4, 5, 6, 7, 8, 10}\n",
    "\n",
    "\n",
    "Therefore, we have:\n",
    "\n",
    "(i) A ∩ B = {2, 6}\n",
    "\n",
    "(ii) A U B = {0, 2, 3, 4, 5, 6, 7, 8, 10}"
   ]
  },
  {
   "cell_type": "markdown",
   "id": "f8b0de9f-9cfd-4063-bbae-9159a93fe8cb",
   "metadata": {},
   "source": [
    "## Q8. What do you understand about skewness in data?"
   ]
  },
  {
   "cell_type": "markdown",
   "id": "fe735c98-2a7f-4e15-849b-e42e24717524",
   "metadata": {},
   "source": [
    "Skewness is a measure of the asymmetry of a probability distribution. In statistics, it is a measure of the degree to which the data deviates from the normal distribution.\n",
    "\n",
    "A distribution is said to be symmetric if it is equally likely to occur on either side of the central value. A distribution is said to be skewed if it is not symmetric. If the tail of the distribution is longer on the right side than on the left side, it is said to be positively skewed, and if the tail of the distribution is longer on the left side than on the right side, it is said to be negatively skewed.\n",
    "\n",
    "Positive skewness means that the mean of the data is greater than the median, and there are more values on the left side of the distribution. This is also called right skewness. Negative skewness means that the mean of the data is less than the median, and there are more values on the right side of the distribution. This is also called left skewness.\n",
    "\n",
    "Skewness is an important aspect of data analysis because it can affect the validity of statistical tests and the accuracy of modeling. If the data is highly skewed, it can lead to biased results in statistical analysis and modeling. Therefore, it is important to consider skewness when analyzing data and to use appropriate statistical methods that account for skewness."
   ]
  },
  {
   "cell_type": "markdown",
   "id": "d4081163-b729-4c1b-9f87-68eec194280c",
   "metadata": {},
   "source": [
    "## Q9. If a data is right skewed then what will be the position of median with respect to mean?"
   ]
  },
  {
   "cell_type": "markdown",
   "id": "d4b274e2-28c1-4321-9a75-8d54e8bde1ae",
   "metadata": {},
   "source": [
    "If a data is right skewed, the position of the median with respect to the mean will be to the left of the mean.\n",
    "\n",
    "In a right-skewed distribution, the tail of the distribution extends to the right and the majority of the data is concentrated on the left side of the distribution. This results in a mean that is pulled to the right of the median. The median represents the middle value of the data when it is arranged in order, while the mean is the average value of the data.\n",
    "\n",
    "Since the mean is affected by extreme values or outliers in the data, it can be heavily influenced by the presence of outliers in the right tail of the distribution. This results in the mean being greater than the median, with the median being closer to the center of the distribution.\n",
    "\n",
    "Therefore, in a right-skewed distribution, the median will be to the left of the mean."
   ]
  },
  {
   "cell_type": "code",
   "execution_count": 73,
   "id": "0a121936-5efa-478a-a818-4c28ed086ea8",
   "metadata": {},
   "outputs": [
    {
     "data": {
      "image/png": "[encoded data removed]",
      "text/plain": [
       "<Figure size 640x480 with 1 Axes>"
      ]
     },
     "metadata": {},
     "output_type": "display_data"
    },
    {
     "name": "stdout",
     "output_type": "stream",
     "text": [
      "Mean:  1.9493583232163896\n",
      "Median:  1.586397428584029\n"
     ]
    }
   ],
   "source": [
    "import numpy as np\n",
    "import matplotlib.pyplot as plt\n",
    "\n",
    "# Generate a right-skewed dataset\n",
    "data = np.random.gamma(2, 1, 1000)\n",
    "\n",
    "# Calculate the mean and median\n",
    "mean = np.mean(data)\n",
    "median = np.median(data)\n",
    "\n",
    "# Plot the histogram\n",
    "plt.hist(data, bins=30)\n",
    "plt.axvline(mean, color='r', label='Mean')\n",
    "plt.axvline(median, color='g', label='Median')\n",
    "plt.legend()\n",
    "plt.show()\n",
    "\n",
    "# Print the mean and median\n",
    "print('Mean: ', mean)\n",
    "print('Median: ', median)\n"
   ]
  },
  {
   "cell_type": "markdown",
   "id": "425115ff-33c5-4aff-b35e-94bfadd297b0",
   "metadata": {},
   "source": [
    "## Q10. Explain the difference between covariance and correlation. How are these measures used in statistical analysis?"
   ]
  },
  {
   "cell_type": "markdown",
   "id": "c0025af1-f00b-4d5f-a566-b077442a6a5b",
   "metadata": {},
   "source": [
    "## Covariance\n",
    "Covariance and correlation are both measures of the relationship between two variables in a dataset, but they differ in their interpretation and scale.\n",
    "\n",
    "Covariance measures the extent to which two variables are linearly related to each other. It is a measure of how much the two variables change together. Specifically, covariance measures the average of the product of the deviations of each variable from its respective mean. If the two variables are positively related, meaning that they tend to increase or decrease together, then the covariance will be positive. If the two variables are negatively related, meaning that they tend to move in opposite directions, then the covariance will be negative.\n",
    "\n",
    "However, covariance does not provide a standardized measure of the strength of the relationship between two variables. This means that it is difficult to compare covariances across different datasets, as the scale of the covariance depends on the scale of the variables being measured."
   ]
  },
  {
   "cell_type": "markdown",
   "id": "da254982-f669-4f1d-aec0-c55ac98b69e2",
   "metadata": {},
   "source": [
    "## Correlation\n",
    "Correlation, on the other hand, is a standardized measure of the strength and direction of the linear relationship between two variables. It ranges from -1 to 1, where a correlation of -1 indicates a perfect negative linear relationship, a correlation of 0 indicates no linear relationship, and a correlation of 1 indicates a perfect positive linear relationship.\n",
    "\n",
    "Correlation is a more useful measure than covariance because it provides a standardized scale that can be used to compare relationships across different datasets. Additionally, correlation is less affected by differences in the scales of the variables being measured.\n",
    "\n",
    "In statistical analysis, both covariance and correlation are used to assess the relationship between variables, to identify patterns in data, and to develop predictive models."
   ]
  },
  {
   "cell_type": "markdown",
   "id": "13461193-6483-401f-b649-d23acef9db64",
   "metadata": {},
   "source": [
    "## Example"
   ]
  },
  {
   "cell_type": "code",
   "execution_count": 74,
   "id": "07687fb5-7c29-445a-b47b-42dd1ebf97d0",
   "metadata": {},
   "outputs": [
    {
     "name": "stdout",
     "output_type": "stream",
     "text": [
      "Covariance:  -0.1479404455193701\n",
      "Correlation:  -0.16017637305830884\n"
     ]
    }
   ],
   "source": [
    "import numpy as np\n",
    "\n",
    "# Generate two random variables\n",
    "x = np.random.normal(0, 1, 100)\n",
    "y = np.random.normal(0, 1, 100)\n",
    "\n",
    "# Calculate the covariance\n",
    "covariance = np.cov(x, y)[0, 1]\n",
    "print('Covariance: ', covariance)\n",
    "\n",
    "# Calculate the correlation\n",
    "correlation = np.corrcoef(x, y)[0, 1]\n",
    "print('Correlation: ', correlation)\n"
   ]
  },
  {
   "cell_type": "markdown",
   "id": "a0d8a366-dc06-4f0e-88c2-7d3d44333e99",
   "metadata": {},
   "source": [
    "## Q11. What is the formula for calculating the sample mean? Provide an example calculation for a dataset."
   ]
  },
  {
   "cell_type": "code",
   "execution_count": 75,
   "id": "fb8bf6cc-858b-4bef-bb13-217367f8ad3b",
   "metadata": {},
   "outputs": [],
   "source": [
    "data = [3, 5, 2, 8, 1, 6, 4]"
   ]
  },
  {
   "cell_type": "code",
   "execution_count": 76,
   "id": "fc7203ac-cc87-498b-b73d-dfaea3526237",
   "metadata": {},
   "outputs": [
    {
     "data": {
      "text/plain": [
       "1.9493583232163896"
      ]
     },
     "execution_count": 76,
     "metadata": {},
     "output_type": "execute_result"
    }
   ],
   "source": [
    "# First Method to find sample mean with the help of numpy\n",
    "np.mean(data)"
   ]
  },
  {
   "cell_type": "code",
   "execution_count": null,
   "id": "b48e7a2b-bb54-4977-9a3d-0ca92795cf37",
   "metadata": {},
   "outputs": [],
   "source": [
    "# Second Method find to sample mean without numpy use\n",
    "sample mean = (sum of values) / (number of values)"
   ]
  },
  {
   "cell_type": "code",
   "execution_count": 77,
   "id": "88d49a2f-1c62-4810-ab23-f97041ac982a",
   "metadata": {},
   "outputs": [],
   "source": [
    "sample_mean = sum(data) / len(data)"
   ]
  },
  {
   "cell_type": "code",
   "execution_count": 78,
   "id": "d9d6153c-bc05-4c94-8015-3e1dfa12608a",
   "metadata": {},
   "outputs": [
    {
     "data": {
      "text/plain": [
       "1.9493583232163896"
      ]
     },
     "execution_count": 78,
     "metadata": {},
     "output_type": "execute_result"
    }
   ],
   "source": [
    "sample_mean"
   ]
  },
  {
   "cell_type": "markdown",
   "id": "f3ba7c15-ddb9-4623-bd0a-da54803bf1f4",
   "metadata": {},
   "source": [
    "## Q12. For a normal distribution data what is the relationship between its measure of central tendency?"
   ]
  },
  {
   "cell_type": "markdown",
   "id": "5449243b-0b19-4aba-a7d2-320df3b669db",
   "metadata": {},
   "source": [
    "For a normal distribution, the measures of central tendency (mean, median, and mode) are equal. This is because a normal distribution is symmetric around its mean, and the median and mode also lie at the center of the distribution.\n",
    "\n",
    "Mathematically, the mean, median, and mode of a normal distribution can be expressed as follows:\n",
    "\n",
    "Mean = Median = Mode\n",
    "\n",
    "Mean = sum of all values / number of values\n",
    "\n",
    "Median = middle value when the data is arranged in order\n",
    "\n",
    "Mode = most frequent value in the dataset"
   ]
  },
  {
   "cell_type": "markdown",
   "id": "afffdfc3-283d-42a9-bf1d-22d1488cb7ab",
   "metadata": {},
   "source": [
    "## Q13. How is covariance different from correlation?"
   ]
  },
  {
   "cell_type": "markdown",
   "id": "c9a4a026-9d6b-49a8-867a-81b2a4699a3d",
   "metadata": {},
   "source": [
    "Covariance and correlation are two terms that are opposed and are both used in statistics and regression analysis. Covariance shows you how the two variables differ, whereas correlation shows you how the two variables are related."
   ]
  },
  {
   "cell_type": "markdown",
   "id": "b648af61-882c-4b20-868d-f50c3916648a",
   "metadata": {},
   "source": [
    "## Q14. How do outliers affect measures of central tendency and dispersion? Provide an example."
   ]
  },
  {
   "cell_type": "markdown",
   "id": "24c04820-ac34-4e5c-bac8-446f470281d2",
   "metadata": {},
   "source": [
    "Outliers can significantly affect measures of central tendency and dispersion in a dataset, and it is important to identify and handle them appropriately in statistical analysis. Here's an example in Python:"
   ]
  },
  {
   "cell_type": "code",
   "execution_count": 81,
   "id": "d2a10f62-8a44-4425-bc78-9353e1a65cb3",
   "metadata": {},
   "outputs": [
    {
     "name": "stdout",
     "output_type": "stream",
     "text": [
      "Mean:  22.0\n",
      "Median:  3.0\n",
      "Standard deviation:  39.01281840626232\n"
     ]
    }
   ],
   "source": [
    "import numpy as np\n",
    "\n",
    "# create a dataset with outliers\n",
    "data = np.array([1, 2, 3, 4, 100])\n",
    "\n",
    "# 100 is outliers\n",
    "\n",
    "# calculate the mean and median\n",
    "mean = np.mean(data)\n",
    "median = np.median(data)\n",
    "\n",
    "# calculate the standard deviation\n",
    "std = np.std(data)\n",
    "\n",
    "print(\"Mean: \", mean)\n",
    "print(\"Median: \", median)\n",
    "print(\"Standard deviation: \", std)"
   ]
  },
  {
   "cell_type": "code",
   "execution_count": null,
   "id": "07df96b0-9a4c-4607-a122-e9c85f14f32f",
   "metadata": {},
   "outputs": [],
   "source": []
  }
 ],
 "metadata": {
  "kernelspec": {
   "display_name": "Python 3 (ipykernel)",
   "language": "python",
   "name": "python3"
  },
  "language_info": {
   "codemirror_mode": {
    "name": "ipython",
    "version": 3
   },
   "file_extension": ".py",
   "mimetype": "text/x-python",
   "name": "python",
   "nbconvert_exporter": "python",
   "pygments_lexer": "ipython3",
   "version": "3.10.8"
  }
 },
 "nbformat": 4,
 "nbformat_minor": 5
}
